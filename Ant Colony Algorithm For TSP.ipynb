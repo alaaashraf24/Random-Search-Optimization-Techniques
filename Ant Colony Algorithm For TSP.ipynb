{
 "cells": [
  {
   "cell_type": "code",
   "execution_count": null,
   "id": "c29154ce-59c9-400a-b5eb-1d2c4a23d772",
   "metadata": {},
   "outputs": [],
   "source": []
  },
  {
   "cell_type": "markdown",
   "id": "5e1861df-1131-461a-95b5-8898d4f1a140",
   "metadata": {},
   "source": [
    "# <div align=\"center\">Ant Colony Algorithm For Travelling Salesman Problem</div>\n"
   ]
  },
  {
   "cell_type": "markdown",
   "id": "87dd21bf-1f7e-483b-ad8e-8faf2977a130",
   "metadata": {},
   "source": [
    "## Import Libraries:"
   ]
  },
  {
   "cell_type": "code",
   "execution_count": 1,
   "id": "a291a1ae-dba3-4301-a832-4bbc1892b681",
   "metadata": {},
   "outputs": [],
   "source": [
    "import numpy as np\n",
    "import pandas as pd\n",
    "import random\n",
    "import copy\n",
    "import matplotlib.pyplot as plt"
   ]
  },
  {
   "cell_type": "markdown",
   "id": "fe72b514-e9ad-45ea-912c-36a4da7e2fa8",
   "metadata": {},
   "source": [
    "## City and Chromosome Classes:"
   ]
  },
  {
   "cell_type": "code",
   "execution_count": 2,
   "id": "d73d9b11-b306-4baf-9a51-15a5b9c24e2c",
   "metadata": {},
   "outputs": [],
   "source": [
    "class City:\n",
    "    \"\"\"Class representing a city with a name and coordinates.\"\"\"\n",
    "    def __init__(self, name, coordinates):\n",
    "        \"\"\"\n",
    "        Initialize a City object.\n",
    "\n",
    "        Parameters:\n",
    "            name (str or int): Name or identifier of the city.\n",
    "            coordinates (list): List containing x and y coordinates of the city.\n",
    "        \"\"\"\n",
    "        self.name = name\n",
    "        self.coordinates = coordinates\n",
    "\n",
    "    def __repr__(self):\n",
    "        \"\"\"String representation of a City object.\"\"\"\n",
    "        return f\"City: {self.name}\"\n",
    "\n",
    "    def __eq__(self, other):\n",
    "        \"\"\"Check if two City objects are equal.\"\"\"\n",
    "        return self.name == other.name\n",
    "\n",
    "class Chromosome:\n",
    "    \"\"\"Class representing a chromosome in the genetic algorithm.\"\"\"\n",
    "    def __init__(self, genes):\n",
    "        \"\"\"\n",
    "        Initialize a Chromosome object.\n",
    "\n",
    "        Parameters:\n",
    "            genes (list): List of City objects representing the chromosome's genes.\n",
    "        \"\"\"\n",
    "        self.fitness = 0 \n",
    "        self.cost = 0 \n",
    "        self.genes = genes\n",
    "\n",
    "    def __repr__(self):\n",
    "        \"\"\"String representation of a Chromosome object.\"\"\"\n",
    "        return f'Genes: {self.genes} Total Cost: {self.cost} Fitness Score: {self.fitness}'"
   ]
  },
  {
   "cell_type": "markdown",
   "id": "544d3260-e1ac-499b-9dd1-da63b6de6679",
   "metadata": {},
   "source": [
    "## Reading Data:"
   ]
  },
  {
   "cell_type": "code",
   "execution_count": 3,
   "id": "e7151a4e-6b7d-4d6c-980c-d7560760980c",
   "metadata": {},
   "outputs": [],
   "source": [
    "def read_data(path):\n",
    "    \"\"\"\n",
    "    Read city data from a CSV file and create City objects.\n",
    "\n",
    "    Parameters:\n",
    "        path (str): Path to the CSV file containing city data.\n",
    "\n",
    "    Returns:\n",
    "        list: List of City objects.\n",
    "    \"\"\"\n",
    "    df = pd.read_csv(path)\n",
    "    cities = []\n",
    "    for index, row in df.iterrows():\n",
    "        city_name = int(row['City'])  \n",
    "        cities.append(City(city_name, [row['x'], row['y']]))\n",
    "    return cities"
   ]
  },
  {
   "cell_type": "markdown",
   "id": "2045a1fe-e50a-42f7-8ad5-a9e0323abe1d",
   "metadata": {},
   "source": [
    "## Distance Calculation:"
   ]
  },
  {
   "cell_type": "code",
   "execution_count": 4,
   "id": "55015e20-c5c7-43b1-a88e-820f59a9f30a",
   "metadata": {},
   "outputs": [],
   "source": [
    "def calculate_distance(point1, point2):\n",
    "    \"\"\"\n",
    "    Calculate the Euclidean distance between two points.\n",
    "\n",
    "    Parameters:\n",
    "        point1 (list): List containing x and y coordinates of the first point.\n",
    "        point2 (list): List containing x and y coordinates of the second point.\n",
    "\n",
    "    Returns:\n",
    "        float: Euclidean distance between the two points.\n",
    "    \"\"\"\n",
    "    point1 = np.array(point1, dtype=float)\n",
    "    point2 = np.array(point2, dtype=float)\n",
    "    distance = np.sum((point1 - point2) ** 2) ** 0.5\n",
    "    return distance\n",
    "\n",
    "def create_distance_matrix(cities):\n",
    "    \"\"\"\n",
    "    Create a distance matrix based on the pairwise distances between cities.\n",
    "\n",
    "    Parameters:\n",
    "        cities (list): List of City objects.\n",
    "\n",
    "    Returns:\n",
    "        numpy.ndarray: 2D array representing the distance matrix.\n",
    "    \"\"\"\n",
    "    distance_matrix = np.zeros((len(cities), len(cities)))\n",
    "    for i in range(len(cities)):\n",
    "        for j in range(len(cities)):\n",
    "            if i != j:\n",
    "                distance_matrix[i, j] = calculate_distance(cities[i].coordinates, cities[j].coordinates)\n",
    "    return distance_matrix"
   ]
  },
  {
   "cell_type": "markdown",
   "id": "1bb00727-f315-4959-91d9-126ad73ea077",
   "metadata": {},
   "source": [
    "## Calculate Chromosome Cost:"
   ]
  },
  {
   "cell_type": "code",
   "execution_count": 5,
   "id": "f773f496-d419-4c3a-a66a-634299c2a102",
   "metadata": {},
   "outputs": [],
   "source": [
    "def calculate_chromosome_cost(chromosome, distance_matrix):\n",
    "    \"\"\"\n",
    "    Calculate the total cost of traversing a chromosome's genes.\n",
    "\n",
    "    Parameters:\n",
    "        chromosome (Chromosome): Chromosome object containing the genes.\n",
    "        distance_matrix (numpy.ndarray): Distance matrix between cities.\n",
    "\n",
    "    Returns:\n",
    "        float: Total cost of traversing the chromosome.\n",
    "    \"\"\"\n",
    "    total_distance = 0\n",
    "    for i in range(len(chromosome.genes) - 1):\n",
    "        city1 = chromosome.genes[i]\n",
    "        city2 = chromosome.genes[i + 1]\n",
    "        total_distance += distance_matrix[city1.name - 1, city2.name - 1]\n",
    "    return total_distance + calculate_distance(chromosome.genes[-1].coordinates, chromosome.genes[0].coordinates)"
   ]
  },
  {
   "cell_type": "markdown",
   "id": "3ae101dc-fc86-4ada-ad5a-53e6e20db641",
   "metadata": {},
   "source": [
    "## Create Initial Population:"
   ]
  },
  {
   "cell_type": "code",
   "execution_count": 6,
   "id": "a227118e-afa2-4cfb-be02-f759abb8577c",
   "metadata": {},
   "outputs": [],
   "source": [
    "def create_initial_population(num, distance_matrix):\n",
    "    \"\"\"\n",
    "    Create an initial population of chromosomes.\n",
    "\n",
    "    Parameters:\n",
    "        num (int): Number of chromosomes in the population.\n",
    "        distance_matrix (numpy.ndarray): Distance matrix between cities.\n",
    "\n",
    "    Returns:\n",
    "        list: Initial population of Chromosome objects.\n",
    "    \"\"\"\n",
    "    cities = read_data('Data set CSV.csv')\n",
    "    population = []\n",
    "    for _ in range(num):\n",
    "        chromosome = Chromosome(list(np.random.permutation(cities)))\n",
    "        chromosome.cost = calculate_chromosome_cost(chromosome, distance_matrix)\n",
    "        chromosome.fitness = 1 / chromosome.cost \n",
    "        population.append(chromosome)\n",
    "    return population"
   ]
  },
  {
   "cell_type": "markdown",
   "id": "25f7bf05-73c8-4979-b901-307ff752806d",
   "metadata": {},
   "source": [
    "## Select Better Solution:"
   ]
  },
  {
   "cell_type": "code",
   "execution_count": 8,
   "id": "6fcd7a12-d194-4fd9-a818-bb8f1a5b732a",
   "metadata": {},
   "outputs": [],
   "source": [
    "def select_better_solution(solution1, solution2):\n",
    "    \"\"\"\n",
    "    Select the better solution between two solutions based on cost.\n",
    "\n",
    "    Parameters:\n",
    "        solution1 (Chromosome): First solution.\n",
    "        solution2 (Chromosome): Second solution.\n",
    "\n",
    "    Returns:\n",
    "        Chromosome: Better solution.\n",
    "    \"\"\"\n",
    "    if solution1.cost < solution2.cost:\n",
    "        return solution1\n",
    "    else:\n",
    "        return solution2"
   ]
  },
  {
   "cell_type": "markdown",
   "id": "49936ac0-d01f-4a43-bbe6-6591300a8334",
   "metadata": {},
   "source": [
    "## Update Pheromone Matrix:"
   ]
  },
  {
   "cell_type": "code",
   "execution_count": 9,
   "id": "c7743fc2-d619-4c6c-a58e-ac77e6911c16",
   "metadata": {},
   "outputs": [],
   "source": [
    "def update_pheromone_matrix(old_pheromone, population, evaporation_rate):\n",
    "    \"\"\"\n",
    "    Update the pheromone matrix based on the population's solutions.\n",
    "\n",
    "    Parameters:\n",
    "        old_pheromone (numpy.ndarray): Current pheromone matrix.\n",
    "        population (list): List of Chromosome objects representing the population.\n",
    "        evaporation_rate (float): Rate at which pheromone evaporates.\n",
    "\n",
    "    Returns:\n",
    "        numpy.ndarray: Updated pheromone matrix.\n",
    "    \"\"\"\n",
    "    new_pheromone = copy.deepcopy(old_pheromone) * (1 - evaporation_rate)\n",
    "    for chromosome in population:\n",
    "        pheromone_value = 1 / chromosome.cost\n",
    "        for i in range(len(chromosome.genes) - 1):\n",
    "            city1_index = chromosome.genes[i].name - 1\n",
    "            city2_index = chromosome.genes[i + 1].name - 1\n",
    "            new_pheromone[city1_index, city2_index] += pheromone_value\n",
    "            new_pheromone[city2_index, city1_index] += pheromone_value\n",
    "    return new_pheromone"
   ]
  },
  {
   "cell_type": "markdown",
   "id": "7a6de56d-8b16-4bb9-97d4-cd145fec0562",
   "metadata": {},
   "source": [
    "## Construct Solution:"
   ]
  },
  {
   "cell_type": "code",
   "execution_count": 10,
   "id": "707d7616-c294-4440-bf7e-ea2135dcaaf2",
   "metadata": {},
   "outputs": [],
   "source": [
    "def construct_solution(cities, pheromone_matrix, distance_matrix, alpha, beta, size):\n",
    "    \"\"\"\n",
    "    Construct a new solution using the ant colony algorithm.\n",
    "\n",
    "    Parameters:\n",
    "        cities (list): List of City objects.\n",
    "        pheromone_matrix (numpy.ndarray): Pheromone matrix representing the trails.\n",
    "        distance_matrix (numpy.ndarray): Distance matrix between cities.\n",
    "        alpha (float): Influence of pheromone on decision making.\n",
    "        beta (float): Influence of distance on decision making.\n",
    "        size (int): Number of solutions to construct.\n",
    "\n",
    "    Returns:\n",
    "        list: List of Chromosome objects representing the new solutions.\n",
    "    \"\"\"\n",
    "    new_generation = []\n",
    "    while True:\n",
    "        random_index = random.choices(range(len(cities)))[0]\n",
    "        current_city = cities[random_index]\n",
    "        path = [current_city]\n",
    "        unvisited_cities = [city for city in cities]\n",
    "        for _ in range(len(cities) - 1):\n",
    "            probabilities = []\n",
    "            unvisited_cities.remove(current_city)\n",
    "            for city in cities:\n",
    "                if city in path:\n",
    "                    continue\n",
    "                probability = (((pheromone_matrix[current_city.name - 1, city.name - 1]) ** alpha) * \n",
    "                               ((1 / distance_matrix[current_city.name - 1, city.name - 1]) ** beta))\n",
    "                probabilities.append(probability)\n",
    "            probabilities = np.array(probabilities) / np.sum(probabilities)\n",
    "            next_city = np.random.choice(unvisited_cities, p=probabilities)\n",
    "            path.append(next_city)\n",
    "            current_city = next_city\n",
    "        chromosome = Chromosome(path)\n",
    "        new_generation.append(chromosome)\n",
    "        if len(new_generation) == size:\n",
    "            return new_generation\n"
   ]
  },
  {
   "cell_type": "markdown",
   "id": "0268d5d6-3d40-4d62-8a92-e9dfb1950783",
   "metadata": {},
   "source": [
    "## Sort Population By Fitness:"
   ]
  },
  {
   "cell_type": "code",
   "execution_count": 11,
   "id": "3227b520-4f2b-420c-b4af-17f41246fdff",
   "metadata": {},
   "outputs": [],
   "source": [
    "def sort_population_by_fitness(population):\n",
    "    \"\"\"\n",
    "    Sort the population by fitness in descending order.\n",
    "\n",
    "    Parameters:\n",
    "        population (list): List of Chromosome objects representing the population.\n",
    "\n",
    "    Returns:\n",
    "        list: Population sorted by fitness.\n",
    "    \"\"\"\n",
    "    population = sorted(population, key=lambda x: x.fitness, reverse=True)\n",
    "    return population"
   ]
  },
  {
   "cell_type": "markdown",
   "id": "99de1a97-b1e6-401d-8900-65cbb8370f58",
   "metadata": {},
   "source": [
    "## Evaluate Population:"
   ]
  },
  {
   "cell_type": "code",
   "execution_count": 12,
   "id": "63397cd9-b8b9-40c7-bde1-2490186e76ed",
   "metadata": {},
   "outputs": [],
   "source": [
    "def evaluate_population(population, distance_matrix):\n",
    "    \"\"\"\n",
    "    Evaluate the fitness of the population's chromosomes.\n",
    "\n",
    "    Parameters:\n",
    "        population (list): List of Chromosome objects representing the population.\n",
    "        distance_matrix (numpy.ndarray): Distance matrix between cities.\n",
    "\n",
    "    Returns:\n",
    "        list: Population sorted by fitness.\n",
    "    \"\"\"\n",
    "    updated_population = [] \n",
    "    for chromosome in population:\n",
    "        chromosome.cost = calculate_chromosome_cost(chromosome, distance_matrix)\n",
    "        chromosome.fitness = 1 / chromosome.cost\n",
    "        updated_population.append(chromosome)\n",
    "    return sort_population_by_fitness(updated_population)"
   ]
  },
  {
   "cell_type": "markdown",
   "id": "ba5021cc-7f43-4f00-859c-cec5a79da28e",
   "metadata": {},
   "source": [
    "## Main Algorithm Execution:"
   ]
  },
  {
   "cell_type": "code",
   "execution_count": 13,
   "id": "93c70f5e-675d-458a-93ac-6b4e354fa19a",
   "metadata": {},
   "outputs": [
    {
     "name": "stdout",
     "output_type": "stream",
     "text": [
      "Genes: [City: 5, City: 9, City: 15, City: 2, City: 13, City: 1, City: 11, City: 4, City: 6, City: 8, City: 10, City: 14, City: 12, City: 3, City: 7, City: 5] Total Cost: 284.3810904080331 Fitness Score: 0.0035164082062038265\n"
     ]
    }
   ],
   "source": [
    "if __name__ == \"__main__\":\n",
    "    population_size = 100\n",
    "    alpha = 1\n",
    "    beta = 2\n",
    "    num_generations = 10\n",
    "    initial_pheromone_matrix = np.zeros((15, 15)) + 0.000000000001\n",
    "    evaporation_rate = 0.7\n",
    "\n",
    "    cities = read_data('Data set CSV.csv')\n",
    "    distance_matrix = create_distance_matrix(cities)\n",
    "    population = create_initial_population(population_size, distance_matrix)\n",
    "    pheromone_matrix = update_pheromone_matrix(initial_pheromone_matrix, population, evaporation_rate)\n",
    "\n",
    "    best_solutions_for_all_generations = []\n",
    "\n",
    "    for _ in range(num_generations):   \n",
    "        population = construct_solution(cities, pheromone_matrix, distance_matrix, alpha, beta, population_size)\n",
    "        population = evaluate_population(population, distance_matrix)\n",
    "        best_solutions_for_all_generations.append(population[0])\n",
    "        pheromone_matrix = update_pheromone_matrix(pheromone_matrix, population, evaporation_rate)\n",
    "\n",
    "    best_solution = sort_population_by_fitness(best_solutions_for_all_generations)[0]\n",
    "    best_solution.genes.append(best_solution.genes[0])\n",
    "    print(best_solution)"
   ]
  },
  {
   "cell_type": "markdown",
   "id": "a9144222-e345-4dbf-94d1-cc1f93cc432d",
   "metadata": {},
   "source": [
    "## Plotting Function:"
   ]
  },
  {
   "cell_type": "code",
   "execution_count": 15,
   "id": "63919e19-eb3f-4b4f-afe2-62159994a531",
   "metadata": {},
   "outputs": [
    {
     "data": {
      "image/png": "[encoded data removed]",
      "text/plain": [
       "<Figure size 640x480 with 1 Axes>"
      ]
     },
     "metadata": {},
     "output_type": "display_data"
    }
   ],
   "source": [
    "def plot_solution(solution):\n",
    "    \"\"\"\n",
    "    Plot the solution path on a 2D plane.\n",
    "\n",
    "    Parameters:\n",
    "        solution (Chromosome): Chromosome object representing the solution path.\n",
    "    \"\"\"\n",
    "    x = []\n",
    "    y = []\n",
    "    names = []\n",
    "    for city in solution.genes:\n",
    "        x.append(float(city.coordinates[0]))\n",
    "        y.append(float(city.coordinates[1]))\n",
    "        names.append('City' + str(city.name))\n",
    "    fig, ax = plt.subplots()\n",
    "    def animate(i):\n",
    "        ax.clear()\n",
    "        ax.plot(x[:i+1], y[:i+1], marker='o')\n",
    "    plt.plot(x, y, marker='o')\n",
    "    for i in range(len(x)):\n",
    "        plt.text(x[i] + 0.1, y[i] + 0.1, names[i], fontsize=10)\n",
    "    plt.title(f'Ant Colony Algorithm Cost: {best_solution.cost}')\n",
    "    plt.show()\n",
    "\n",
    "plot_solution(best_solution)"
   ]
  },
  {
   "cell_type": "code",
   "execution_count": null,
   "id": "5923774a-04a3-4e95-b055-1b6c088743a7",
   "metadata": {},
   "outputs": [],
   "source": []
  }
 ],
 "metadata": {
  "kernelspec": {
   "display_name": "Python 3 (ipykernel)",
   "language": "python",
   "name": "python3"
  },
  "language_info": {
   "codemirror_mode": {
    "name": "ipython",
    "version": 3
   },
   "file_extension": ".py",
   "mimetype": "text/x-python",
   "name": "python",
   "nbconvert_exporter": "python",
   "pygments_lexer": "ipython3",
   "version": "3.11.7"
  }
 },
 "nbformat": 4,
 "nbformat_minor": 5
}

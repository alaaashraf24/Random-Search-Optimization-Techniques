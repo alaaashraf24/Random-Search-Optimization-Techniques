{
  "cells": [
    {
      "cell_type": "code",
      "execution_count": null,
      "id": "64cb2075-2bf7-4ab1-b677-a0bc5da44871",
      "metadata": {
        "id": "64cb2075-2bf7-4ab1-b677-a0bc5da44871"
      },
      "outputs": [],
      "source": []
    },
    {
      "cell_type": "markdown",
      "id": "e422233d-8270-4eb6-87d7-e7bcf8d8dfd3",
      "metadata": {
        "id": "e422233d-8270-4eb6-87d7-e7bcf8d8dfd3"
      },
      "source": [
        "# <div align=\"center\">Genetic Algorithm for Traveling Salesman Problem</div>\n"
      ]
    },
    {
      "cell_type": "markdown",
      "id": "1d2ae226-9e02-4450-b185-85864a57a333",
      "metadata": {
        "id": "1d2ae226-9e02-4450-b185-85864a57a333"
      },
      "source": [
        "# Import libraries:\n"
      ]
    },
    {
      "cell_type": "code",
      "execution_count": 1,
      "id": "bbf54e7b-8871-42da-abba-3c5f86cf2df9",
      "metadata": {
        "id": "bbf54e7b-8871-42da-abba-3c5f86cf2df9"
      },
      "outputs": [],
      "source": [
        "import numpy as np\n",
        "import pandas as pd\n",
        "import random\n",
        "import copy\n",
        "import matplotlib.pyplot as plt"
      ]
    },
    {
      "cell_type": "markdown",
      "id": "48026234-b73d-4b45-a6e6-b72bd1813d28",
      "metadata": {
        "id": "48026234-b73d-4b45-a6e6-b72bd1813d28"
      },
      "source": [
        "# CityGene and TravelPath Classes:\n"
      ]
    },
    {
      "cell_type": "code",
      "execution_count": 2,
      "id": "3d7a4dbb-630a-4782-9055-daa2f217d523",
      "metadata": {
        "id": "3d7a4dbb-630a-4782-9055-daa2f217d523"
      },
      "outputs": [],
      "source": [
        "class CityGene:\n",
        "    \"\"\"\n",
        "    Represents a city with its name and coordinates.\n",
        "    \"\"\"\n",
        "\n",
        "    def __init__(self, city_name, coordinates):\n",
        "        \"\"\"\n",
        "        Initialize a CityGene object.\n",
        "\n",
        "        Parameters:\n",
        "        - city_name (int): The name or identifier of the city.\n",
        "        - coordinates (list): The coordinates of the city in the form [x, y].\n",
        "        \"\"\"\n",
        "        self.city_name = city_name\n",
        "        self.coordinates = coordinates\n",
        "\n",
        "    def __repr__(self):\n",
        "        return f\"City:{self.city_name}\"\n",
        "\n",
        "    def __eq__(self, other):\n",
        "        return self.city_name == other.city_name\n",
        "\n",
        "class TravelPath:\n",
        "    \"\"\"\n",
        "    Represents a path through multiple cities.\n",
        "    \"\"\"\n",
        "\n",
        "    def __init__(self, genes):\n",
        "        \"\"\"\n",
        "        Initialize a TravelPath object.\n",
        "\n",
        "        Parameters:\n",
        "        - genes (list): List of CityGene objects representing the path through cities.\n",
        "        \"\"\"\n",
        "        self.fitness_score = 0\n",
        "        self.total_cost = 0\n",
        "        self.genes = genes\n",
        "\n",
        "    def __repr__(self):\n",
        "        return f'{self.genes} Total Cost: {self.total_cost} Fitness Score:{self.fitness_score}'"
      ]
    },
    {
      "cell_type": "markdown",
      "id": "dd37584d-4f3c-4bc1-9f16-217886b17e46",
      "metadata": {
        "id": "dd37584d-4f3c-4bc1-9f16-217886b17e46"
      },
      "source": [
        "# Data Loading:\n"
      ]
    },
    {
      "cell_type": "code",
      "execution_count": 3,
      "id": "8824e92a-1c2d-43f2-9562-77a148fb80a5",
      "metadata": {
        "id": "8824e92a-1c2d-43f2-9562-77a148fb80a5"
      },
      "outputs": [],
      "source": [
        "def load_city_data(file_path):\n",
        "    \"\"\"\n",
        "    Load city data from a CSV file.\n",
        "\n",
        "    Parameters:\n",
        "    - file_path (str): Path to the CSV file containing city data.\n",
        "\n",
        "    Returns:\n",
        "    - cities (list): List of CityGene objects representing cities.\n",
        "    \"\"\"\n",
        "    city_data = pd.read_csv(file_path)\n",
        "    cities = []\n",
        "    for index, row in city_data.iterrows():\n",
        "        cities.append(CityGene(int(row['City']), [row['x'], row['y']]))\n",
        "    return cities"
      ]
    },
    {
      "cell_type": "markdown",
      "id": "9575a126-ccf8-4132-bbcf-be3fe8992aaa",
      "metadata": {
        "id": "9575a126-ccf8-4132-bbcf-be3fe8992aaa"
      },
      "source": [
        "# Distance Calculation:"
      ]
    },
    {
      "cell_type": "code",
      "execution_count": 4,
      "id": "3380278b-fbfa-4299-9865-ed0972b8df51",
      "metadata": {
        "id": "3380278b-fbfa-4299-9865-ed0972b8df51"
      },
      "outputs": [],
      "source": [
        "def calculate_distance(start_point, end_point):\n",
        "    \"\"\"\n",
        "    Calculate the Euclidean distance between two points.\n",
        "\n",
        "    Parameters:\n",
        "    - start_point (list): Coordinates of the starting point.\n",
        "    - end_point (list): Coordinates of the ending point.\n",
        "\n",
        "    Returns:\n",
        "    - distance (float): Euclidean distance between the two points.\n",
        "    \"\"\"\n",
        "    start_point = np.array(start_point, dtype=float)\n",
        "    end_point = np.array(end_point, dtype=float)\n",
        "    distance = np.sqrt(np.sum((end_point - start_point)**2))\n",
        "    return distance\n",
        "\n",
        "def create_distance_matrix(initial_path):\n",
        "    \"\"\"\n",
        "    Create a distance matrix between cities.\n",
        "\n",
        "    Parameters:\n",
        "    - initial_path (list): List of CityGene objects representing cities.\n",
        "\n",
        "    Returns:\n",
        "    - distance_matrix (numpy.ndarray): 2D array representing the distance between each pair of cities.\n",
        "    \"\"\"\n",
        "    matrix_size = len(initial_path)\n",
        "    distance_matrix = np.zeros((matrix_size, matrix_size))\n",
        "    for i in range(matrix_size):\n",
        "        for j in range(matrix_size):\n",
        "            if i != j:\n",
        "                distance_matrix[i, j] = calculate_distance(initial_path[i].coordinates, initial_path[j].coordinates)\n",
        "    return distance_matrix\n",
        "\n",
        "def calculate_path_cost(path, distance_matrix):\n",
        "    \"\"\"\n",
        "    Calculate the total cost of a given path through cities.\n",
        "\n",
        "    Parameters:\n",
        "    - path (TravelPath): The path to calculate the cost for.\n",
        "    - distance_matrix (numpy.ndarray): 2D array representing the distance between each pair of cities.\n",
        "\n",
        "    Returns:\n",
        "    - path_cost (float): Total cost of the path.\n",
        "    \"\"\"\n",
        "    path_cost = 0\n",
        "    for i in range(len(path.genes) - 1):\n",
        "        city_a = path.genes[i]\n",
        "        city_b = path.genes[i + 1]\n",
        "        index_a = int(city_a.city_name) - 1\n",
        "        index_b = int(city_b.city_name) - 1\n",
        "        path_cost += distance_matrix[index_a, index_b]\n",
        "    return path_cost + calculate_distance(path.genes[-1].coordinates, path.genes[0].coordinates)"
      ]
    },
    {
      "cell_type": "markdown",
      "id": "3fd974d8-1954-47bd-bc67-51a9c64e6fe8",
      "metadata": {
        "id": "3fd974d8-1954-47bd-bc67-51a9c64e6fe8"
      },
      "source": [
        "# Population Generation:"
      ]
    },
    {
      "cell_type": "code",
      "execution_count": 5,
      "id": "9da8bfb3-0b02-4eef-a4c1-307844b3afc4",
      "metadata": {
        "id": "9da8bfb3-0b02-4eef-a4c1-307844b3afc4"
      },
      "outputs": [],
      "source": [
        "def generate_population(size, distance_matrix):\n",
        "    \"\"\"\n",
        "    Generate an initial population of travel paths.\n",
        "\n",
        "    Parameters:\n",
        "    - size (int): Size of the population.\n",
        "    - distance_matrix (numpy.ndarray): 2D array representing the distance between each pair of cities.\n",
        "\n",
        "    Returns:\n",
        "    - population (list): List of TravelPath objects representing the initial population.\n",
        "    \"\"\"\n",
        "    city_list = load_city_data('Data set CSV.csv')\n",
        "    population = []\n",
        "    for _ in range(size):\n",
        "        random_path = TravelPath(list(np.random.permutation(city_list)))\n",
        "        random_path.total_cost = calculate_path_cost(random_path, distance_matrix)\n",
        "        random_path.fitness_score = 1 / random_path.total_cost\n",
        "        population.append(random_path)\n",
        "    return population"
      ]
    },
    {
      "cell_type": "markdown",
      "id": "cb2623a0-b6ef-4486-97ee-179203fb1b36",
      "metadata": {
        "id": "cb2623a0-b6ef-4486-97ee-179203fb1b36"
      },
      "source": [
        "# Fitness Calculation:"
      ]
    },
    {
      "cell_type": "code",
      "execution_count": 6,
      "id": "81a44e65-eb03-483e-a0f0-090b2819d172",
      "metadata": {
        "id": "81a44e65-eb03-483e-a0f0-090b2819d172"
      },
      "outputs": [],
      "source": [
        "def compute_fitness(path, distance_matrix):\n",
        "    \"\"\"\n",
        "    Compute the fitness score of a path.\n",
        "\n",
        "    Parameters:\n",
        "    - path (TravelPath): The path to compute the fitness score for.\n",
        "    - distance_matrix (numpy.ndarray): 2D array representing the distance between each pair of cities.\n",
        "\n",
        "    Returns:\n",
        "    - fitness_score (float): Fitness score of the path.\n",
        "    \"\"\"\n",
        "    return 1 / calculate_path_cost(path, distance_matrix)"
      ]
    },
    {
      "cell_type": "markdown",
      "id": "9fbddc52-2a98-4571-8bbc-2666599e2a5b",
      "metadata": {
        "id": "9fbddc52-2a98-4571-8bbc-2666599e2a5b"
      },
      "source": [
        "# Selection, Crossover, and Mutation:"
      ]
    },
    {
      "cell_type": "code",
      "execution_count": 7,
      "id": "b1011758-865f-4840-ba1f-9d178f3e7fef",
      "metadata": {
        "id": "b1011758-865f-4840-ba1f-9d178f3e7fef"
      },
      "outputs": [],
      "source": [
        "def sort_by_fitness(population):\n",
        "    \"\"\"\n",
        "    Sort a population by fitness score in descending order.\n",
        "\n",
        "    Parameters:\n",
        "    - population (list): List of TravelPath objects representing the population.\n",
        "\n",
        "    Returns:\n",
        "    - sorted_population (list): Population sorted by fitness score in descending order.\n",
        "    \"\"\"\n",
        "    return sorted(population, key=lambda x: x.fitness_score, reverse=True)\n",
        "\n",
        "def k_tournament_selection(population, k):\n",
        "    \"\"\"\n",
        "    Perform K-Tournament Selection to select parents for crossover.\n",
        "\n",
        "    Parameters:\n",
        "    - population (list): List of TravelPath objects representing the population.\n",
        "    - k (int): Number of individuals to be selected for each tournament.\n",
        "\n",
        "    Returns:\n",
        "    - selected_paths (list): List of selected TravelPath objects.\n",
        "    \"\"\"\n",
        "    selected_paths = []\n",
        "    for _ in range(len(population)):\n",
        "        tournament = random.sample(population, k)\n",
        "        winner = max(tournament, key=lambda x: x.fitness_score)\n",
        "        selected_paths.append(winner)\n",
        "    return selected_paths\n",
        "\n",
        "def partially_matched_crossover(parent_a, parent_b, distance_matrix):\n",
        "    \"\"\"\n",
        "    Perform partially matched crossover between two parent paths.\n",
        "\n",
        "    Parameters:\n",
        "    - parent_a (TravelPath): First parent path.\n",
        "    - parent_b (TravelPath): Second parent path.\n",
        "    - distance_matrix (numpy.ndarray): 2D array representing the distance between each pair of cities.\n",
        "\n",
        "    Returns:\n",
        "    - child_a (TravelPath): Offspring path resulting from crossover with parent A.\n",
        "    - child_b (TravelPath): Offspring path resulting from crossover with parent B.\n",
        "    \"\"\"\n",
        "    crossover_points = random.sample(range(len(parent_a.genes)), 2)\n",
        "    child_a = TravelPath(copy.deepcopy(parent_a.genes))\n",
        "    child_b = TravelPath(copy.deepcopy(parent_b.genes))\n",
        "\n",
        "    for i in range(min(crossover_points), max(crossover_points)):\n",
        "        gene_a = parent_b.genes[i]\n",
        "        gene_b = parent_a.genes[i]\n",
        "\n",
        "        index_a = child_a.genes.index(gene_a)\n",
        "        child_a.genes[index_a] = child_a.genes[i]\n",
        "\n",
        "        index_b = child_b.genes.index(gene_b)\n",
        "        child_b.genes[index_b] = child_b.genes[i]\n",
        "\n",
        "        child_a.genes[i] = gene_a\n",
        "        child_b.genes[i] = gene_b\n",
        "\n",
        "    child_a.total_cost = calculate_path_cost(child_a, distance_matrix)\n",
        "    child_b.total_cost = calculate_path_cost(child_b, distance_matrix)\n",
        "\n",
        "    child_a.fitness_score = 1 / child_a.total_cost\n",
        "    child_b.fitness_score = 1 / child_b.total_cost\n",
        "\n",
        "    return child_a, child_b\n",
        "\n",
        "def perform_crossover(probability, old_population, new_population, distance_matrix, k_tournament):\n",
        "    \"\"\"\n",
        "    Perform crossover operation on the population.\n",
        "\n",
        "    Parameters:\n",
        "    - probability (float): Probability of crossover.\n",
        "    - old_population (list): List of TravelPath objects representing the old population.\n",
        "    - new_population (list): List of TravelPath objects representing the new population.\n",
        "    - distance_matrix (numpy.ndarray): 2D array representing the distance between each pair of cities.\n",
        "    - k_tournament (int): Number of individuals to be selected for each tournament.\n",
        "\n",
        "    Returns:\n",
        "    - new_population (list): Updated population after crossover operation.\n",
        "    \"\"\"\n",
        "    num = int(len(old_population) * probability)\n",
        "    while True:\n",
        "        parent_paths = k_tournament_selection(old_population, k_tournament)\n",
        "        parent_a = parent_paths[0]\n",
        "        parent_b = parent_paths[1]\n",
        "\n",
        "        child_a, child_b = partially_matched_crossover(parent_a, parent_b, distance_matrix)\n",
        "\n",
        "        new_population.append(child_a)\n",
        "        new_population.append(child_b)\n",
        "\n",
        "        if len(new_population) == len(old_population):\n",
        "            return new_population\n",
        "\n",
        "def perform_mutation(probability, new_population, num_elite, distance_matrix):\n",
        "    \"\"\"\n",
        "    Perform mutation operation on the population.\n",
        "\n",
        "    Parameters:\n",
        "    - probability (float): Probability of mutation.\n",
        "    - new_population (list): List of TravelPath objects representing the population.\n",
        "    - num_elite (int): Number of elite paths to exclude from mutation.\n",
        "    - distance_matrix (numpy.ndarray): 2D array representing the distance between each pair of cities.\n",
        "\n",
        "    Returns:\n",
        "    - new_population (list): Updated population after mutation operation.\n",
        "    \"\"\"\n",
        "    num_mutations = int(len(new_population) * probability)\n",
        "    for _ in range(num_mutations):\n",
        "        chromosome_index = random.choice(range(num_elite, len(new_population)))\n",
        "        mutation_points = random.sample(range(len(new_population[0].genes)), 2)\n",
        "        max_index = max(mutation_points)\n",
        "        for i in range(min(mutation_points), max_index):\n",
        "            new_population[chromosome_index].genes[max_index], new_population[chromosome_index].genes[i] = new_population[chromosome_index].genes[i], new_population[chromosome_index].genes[max_index]\n",
        "            max_index -= 1\n",
        "\n",
        "        new_population[chromosome_index].total_cost = calculate_path_cost(new_population[chromosome_index], distance_matrix)\n",
        "        new_population[chromosome_index].fitness_score = 1 / new_population[chromosome_index].total_cost\n",
        "\n",
        "    return new_population"
      ]
    },
    {
      "cell_type": "markdown",
      "id": "3d4fadd7-abfc-43b1-b4a5-d662c674c98e",
      "metadata": {
        "id": "3d4fadd7-abfc-43b1-b4a5-d662c674c98e"
      },
      "source": [
        "# Genetic Algorithm Main Loop:"
      ]
    },
    {
      "cell_type": "code",
      "execution_count": 8,
      "id": "06be8081-1d51-4178-8fa5-5ff3a253ff0d",
      "metadata": {
        "id": "06be8081-1d51-4178-8fa5-5ff3a253ff0d"
      },
      "outputs": [],
      "source": [
        "def genetic_algorithm(old_population, num_elite, mutation_probability, crossover_probability, distance_matrix, k_tournament):\n",
        "    \"\"\"\n",
        "    Perform the genetic algorithm on the population.\n",
        "\n",
        "    Parameters:\n",
        "    - old_population (list): List of TravelPath objects representing the old population.\n",
        "    - num_elite (int): Number of elite paths to preserve.\n",
        "    - mutation_probability (float): Probability of mutation.\n",
        "    - crossover_probability (float): Probability of crossover.\n",
        "    - distance_matrix (numpy.ndarray): 2D array representing the distance between each pair of cities.\n",
        "    - k_tournament (int): Number of individuals to be selected for each tournament.\n",
        "\n",
        "    Returns:\n",
        "    - new_population (list): List of TravelPath objects representing the new population.\n",
        "    \"\"\"\n",
        "    new_population = []\n",
        "\n",
        "    elites = sort_by_fitness(old_population)\n",
        "    new_population.extend(elites[:num_elite])\n",
        "\n",
        "    new_population = perform_crossover(crossover_probability, old_population, new_population, distance_matrix, k_tournament)\n",
        "    new_population = perform_mutation(mutation_probability, new_population, num_elite, distance_matrix)\n",
        "\n",
        "    return new_population"
      ]
    },
    {
      "cell_type": "markdown",
      "id": "d6a49d76-8d0f-4b17-9aa4-b7954062b777",
      "metadata": {
        "id": "d6a49d76-8d0f-4b17-9aa4-b7954062b777"
      },
      "source": [
        "# Plotting Function:"
      ]
    },
    {
      "cell_type": "code",
      "execution_count": 9,
      "id": "63d23352-dfea-4f27-8b0d-ef776bec5972",
      "metadata": {
        "id": "63d23352-dfea-4f27-8b0d-ef776bec5972"
      },
      "outputs": [],
      "source": [
        "def plot_solution(solution):\n",
        "    \"\"\"\n",
        "    Plot the solution path on a 2D graph.\n",
        "\n",
        "    Parameters:\n",
        "    - solution (TravelPath): The best solution path to be plotted.\n",
        "    \"\"\"\n",
        "    x_coords = []\n",
        "    y_coords = []\n",
        "    city_names = []\n",
        "    for gene in solution.genes:\n",
        "        x_coords.append(float(gene.coordinates[0]))\n",
        "        y_coords.append(float(gene.coordinates[1]))\n",
        "        city_names.append('City' + str(gene.city_name))\n",
        "    fig, ax = plt.subplots()\n",
        "    def animate(i):\n",
        "        ax.clear()\n",
        "        ax.plot(x_coords[:i+1], y_coords[:i+1], marker='o')\n",
        "    plt.plot(x_coords, y_coords, marker='o')\n",
        "    for i in range(len(x_coords)):\n",
        "        plt.text(x_coords[i]+0.1, y_coords[i]+0.1, city_names[i], fontsize=10)\n",
        "    plt.title(f'Genetic Algorithm Total Cost: {solution.total_cost}')\n",
        "    plt.show()"
      ]
    },
    {
      "cell_type": "markdown",
      "id": "fc721107-d7ec-4014-a9ca-f3d8ec1bb5d1",
      "metadata": {
        "id": "fc721107-d7ec-4014-a9ca-f3d8ec1bb5d1"
      },
      "source": [
        "# Main Function:"
      ]
    },
    {
      "cell_type": "code",
      "execution_count": 10,
      "id": "e1b2bb80-f7ae-439f-93d6-0f454153e61a",
      "metadata": {
        "colab": {
          "base_uri": "https://localhost:8080/",
          "height": 507
        },
        "id": "e1b2bb80-f7ae-439f-93d6-0f454153e61a",
        "outputId": "dc36c587-1cd2-4485-f6c9-dc211121357e"
      },
      "outputs": [
        {
          "output_type": "stream",
          "name": "stdout",
          "text": [
            "284.3810904080332\n",
            "[City:13, City:1, City:11, City:4, City:6, City:8, City:10, City:14, City:12, City:3, City:7, City:5, City:9, City:15, City:2, City:13] Total Cost: 284.3810904080332 Fitness Score:0.003516408206203826\n"
          ]
        },
        {
          "output_type": "display_data",
          "data": {
            "text/plain": [
              "<Figure size 640x480 with 1 Axes>"
            ],
            "image/png": "[encoded data removed]"
          },
          "metadata": {}
        }
      ],
      "source": [
        "if __name__ == \"__main__\":\n",
        "    mutation_probability = 0.6\n",
        "    crossover_probability = 0.8\n",
        "    population_size = 400\n",
        "    elite_count = 4\n",
        "    generation_count = 100\n",
        "    k_tournament = 5  # Set the K value for K-Tournament Selection\n",
        "    city_data = load_city_data('Data set CSV.csv')\n",
        "    distance_matrix = create_distance_matrix(city_data)\n",
        "    population = generate_population(population_size, distance_matrix)\n",
        "    for _ in range(generation_count):\n",
        "        population = genetic_algorithm(population, elite_count, mutation_probability, crossover_probability, distance_matrix, k_tournament)\n",
        "        population = sort_by_fitness(population)\n",
        "    best_solution = sort_by_fitness(population)[0]\n",
        "    print(calculate_path_cost(best_solution, distance_matrix))\n",
        "    best_solution.genes.append(best_solution.genes[0])\n",
        "    print(best_solution)\n",
        "    plot_solution(best_solution)"
      ]
    },
    {
      "cell_type": "code",
      "execution_count": null,
      "id": "6904b922-83ee-44c4-bb41-cc1ed965c064",
      "metadata": {
        "id": "6904b922-83ee-44c4-bb41-cc1ed965c064"
      },
      "outputs": [],
      "source": []
    }
  ],
  "metadata": {
    "kernelspec": {
      "display_name": "Python 3",
      "name": "python3"
    },
    "language_info": {
      "codemirror_mode": {
        "name": "ipython",
        "version": 3
      },
      "file_extension": ".py",
      "mimetype": "text/x-python",
      "name": "python",
      "nbconvert_exporter": "python",
      "pygments_lexer": "ipython3",
      "version": "3.11.7"
    },
    "colab": {
      "provenance": [],
      "gpuType": "T4"
    },
    "accelerator": "GPU"
  },
  "nbformat": 4,
  "nbformat_minor": 5
}
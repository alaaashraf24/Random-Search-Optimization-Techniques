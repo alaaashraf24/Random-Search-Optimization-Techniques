{
 "cells": [
  {
   "cell_type": "code",
   "execution_count": null,
   "id": "385b95f5-2516-496f-888a-44a30207d4d8",
   "metadata": {},
   "outputs": [],
   "source": []
  },
  {
   "cell_type": "markdown",
   "id": "3a739b37-55d0-43e9-81e6-a1a736c85a14",
   "metadata": {},
   "source": [
    "# <div align=\"center\">Nearest Neighbour Algorithm for Traveling Salesman Problem</div>"
   ]
  },
  {
   "cell_type": "markdown",
   "id": "e9b81e79-1589-4fb1-8e4e-142a044857e7",
   "metadata": {},
   "source": [
    "# Import Libraies:"
   ]
  },
  {
   "cell_type": "code",
   "execution_count": 1,
   "id": "7adf76c0-2349-4202-82b0-3a3509cc5cf4",
   "metadata": {},
   "outputs": [],
   "source": [
    "import pandas as pd\n",
    "import math\n",
    "import matplotlib.pyplot as plt"
   ]
  },
  {
   "cell_type": "markdown",
   "id": "403d0734-3cfc-41b8-8de4-5da479ed65ad",
   "metadata": {},
   "source": [
    "# City Class:"
   ]
  },
  {
   "cell_type": "code",
   "execution_count": 4,
   "id": "a56a700a-868d-4384-9934-3479f8555b54",
   "metadata": {},
   "outputs": [],
   "source": [
    "class City:\n",
    "    def __init__(self, name, x, y):\n",
    "        \"\"\"\n",
    "        Initialize a City object.\n",
    "\n",
    "        Args:\n",
    "            name (str): The name of the city.\n",
    "            x (float): The x-coordinate of the city.\n",
    "            y (float): The y-coordinate of the city.\n",
    "        \"\"\"\n",
    "        self.name = name\n",
    "        self.x = x\n",
    "        self.y = y\n",
    "        self.visited = False\n",
    "    \n",
    "    def distance_to(self, other_city):\n",
    "        \"\"\"\n",
    "        Calculate the Euclidean distance to another city.\n",
    "\n",
    "        Args:\n",
    "            other_city (City): The other city.\n",
    "\n",
    "        Returns:\n",
    "            float: The Euclidean distance between the two cities.\n",
    "        \"\"\"\n",
    "        return math.sqrt((self.x - other_city.x)**2 + (self.y - other_city.y)**2)"
   ]
  },
  {
   "cell_type": "markdown",
   "id": "8f55ab29-2495-4988-9251-2f6aeb030108",
   "metadata": {},
   "source": [
    "# Reading Cities from CSV File:"
   ]
  },
  {
   "cell_type": "code",
   "execution_count": 5,
   "id": "36a16a89-f056-4291-a4c1-8f3ce67e9a8e",
   "metadata": {},
   "outputs": [],
   "source": [
    "def read_cities_from_csv(file_path):\n",
    "    \"\"\"\n",
    "    Read cities from a CSV file.\n",
    "\n",
    "    Args:\n",
    "        file_path (str): The path to the CSV file containing city data.\n",
    "\n",
    "    Returns:\n",
    "        list: A list of City objects.\n",
    "    \"\"\"\n",
    "    cities = []\n",
    "    df = pd.read_csv(file_path)\n",
    "    for index, row in df.iterrows():\n",
    "        name = row['City']\n",
    "        x = row['x']\n",
    "        y = row['y']\n",
    "        cities.append(City(name, x, y))\n",
    "    return cities"
   ]
  },
  {
   "cell_type": "markdown",
   "id": "092861f7-2be1-4c61-bc3c-a416dd065cf3",
   "metadata": {},
   "source": [
    "# Nearest Neighbor Algorithm:"
   ]
  },
  {
   "cell_type": "code",
   "execution_count": 6,
   "id": "ab03e703-6ac8-4792-b3fa-3a3ef035f241",
   "metadata": {},
   "outputs": [],
   "source": [
    "def nearest_neighbor(cities):\n",
    "    \"\"\"\n",
    "    Find a tour using the nearest neighbor algorithm.\n",
    "\n",
    "    Args:\n",
    "        cities (list): A list of City objects.\n",
    "\n",
    "    Returns:\n",
    "        list: A list representing the tour.\n",
    "    \"\"\"\n",
    "    start_city = cities[14]  # Choosing arbitrary start city\n",
    "    current_city = start_city\n",
    "    tour = [start_city]\n",
    "    current_city.visited = True\n",
    "    while len(tour) < len(cities):\n",
    "        nearest_city = None\n",
    "        min_distance = float('inf')\n",
    "        for city in cities:\n",
    "            if not city.visited:\n",
    "                distance = current_city.distance_to(city)\n",
    "                if distance < min_distance:\n",
    "                    min_distance = distance\n",
    "                    nearest_city = city\n",
    "        nearest_city.visited = True\n",
    "        tour.append(nearest_city)\n",
    "        current_city = nearest_city\n",
    "    # Return to the start city\n",
    "    tour.append(start_city)\n",
    "    return tour"
   ]
  },
  {
   "cell_type": "markdown",
   "id": "9f672d86-4e1e-4142-b8c5-6d086808045b",
   "metadata": {},
   "source": [
    "# Calculating Total Distance:"
   ]
  },
  {
   "cell_type": "code",
   "execution_count": 7,
   "id": "ccd78fde-e802-4851-8d4b-78e67192c2ba",
   "metadata": {},
   "outputs": [],
   "source": [
    "def calculate_total_distance(tour):\n",
    "    \"\"\"\n",
    "    Calculate the total distance of the tour.\n",
    "\n",
    "    Args:\n",
    "        tour (list): A list representing the tour.\n",
    "\n",
    "    Returns:\n",
    "        float: The total distance of the tour.\n",
    "    \"\"\"\n",
    "    total_distance = 0\n",
    "    num_cities = len(tour)\n",
    "    for i in range(num_cities - 1):\n",
    "        total_distance += tour[i].distance_to(tour[i + 1])\n",
    "    return total_distance"
   ]
  },
  {
   "cell_type": "markdown",
   "id": "8dc04603-1177-407d-8b43-c2daccda04f5",
   "metadata": {},
   "source": [
    "# Plotting the Tour:"
   ]
  },
  {
   "cell_type": "code",
   "execution_count": 8,
   "id": "bee94dd0-58be-4446-aad1-a6a4a0324f24",
   "metadata": {},
   "outputs": [],
   "source": [
    "def plot_tour(tour):\n",
    "    \"\"\"\n",
    "    Plot the tour on a 2D coordinate plane.\n",
    "\n",
    "    Args:\n",
    "        tour (list): A list representing the tour.\n",
    "    \"\"\"\n",
    "    # Extract x and y coordinates of cities from the tour\n",
    "    x = [city.x for city in tour]\n",
    "    y = [city.y for city in tour]\n",
    "\n",
    "    # Plot the tour\n",
    "    plt.figure(figsize=(8, 6))\n",
    "    plt.plot(x, y, marker='o', linestyle='-')\n",
    "    plt.title('TSP Tour')\n",
    "    plt.xlabel('X Coordinate')\n",
    "    plt.ylabel('Y Coordinate')\n",
    "    plt.grid(True)\n",
    "    plt.show()"
   ]
  },
  {
   "cell_type": "code",
   "execution_count": 9,
   "id": "ee08f876-f141-4ea7-a98f-3a552cff1af8",
   "metadata": {},
   "outputs": [],
   "source": [
    "# Read cities from CSV \n",
    "file_path = \"Data set CSV.csv\"  \n",
    "cities = read_cities_from_csv(file_path)"
   ]
  },
  {
   "cell_type": "code",
   "execution_count": 10,
   "id": "231523c5-d718-49d6-b766-7ed527e4cf94",
   "metadata": {},
   "outputs": [],
   "source": [
    "# Find tour using nearest neighbor algorithm\n",
    "tour = nearest_neighbor(cities)\n"
   ]
  },
  {
   "cell_type": "code",
   "execution_count": 11,
   "id": "a7037c57-5026-4fa3-9166-ccddd60ea326",
   "metadata": {},
   "outputs": [],
   "source": [
    "# Calculate total distance of the tour\n",
    "total_distance = calculate_total_distance(tour)"
   ]
  },
  {
   "cell_type": "code",
   "execution_count": 12,
   "id": "d3c15292-8775-479e-9d93-56ace78095e5",
   "metadata": {},
   "outputs": [
    {
     "name": "stdout",
     "output_type": "stream",
     "text": [
      "Tour: [15.0, 9.0, 5.0, 7.0, 3.0, 12.0, 14.0, 10.0, 8.0, 6.0, 4.0, 11.0, 1.0, 13.0, 2.0, 15.0]\n",
      "Total distance: 284.3810904080332\n"
     ]
    }
   ],
   "source": [
    "# Output the tour and total distance\n",
    "print(\"Tour:\", [city.name for city in tour])\n",
    "print(\"Total distance:\", total_distance)"
   ]
  },
  {
   "cell_type": "code",
   "execution_count": 13,
   "id": "35e80578-8cb6-49ff-b4f9-5be5c0d00597",
   "metadata": {},
   "outputs": [
    {
     "data": {
      "image/png": "[encoded data removed]",
      "text/plain": [
       "<Figure size 800x600 with 1 Axes>"
      ]
     },
     "metadata": {},
     "output_type": "display_data"
    }
   ],
   "source": [
    "# Plot the tour\n",
    "plot_tour(tour)"
   ]
  },
  {
   "cell_type": "code",
   "execution_count": null,
   "id": "aeb2630b-2830-4b9b-8791-98bd6b7dd203",
   "metadata": {},
   "outputs": [],
   "source": []
  }
 ],
 "metadata": {
  "kernelspec": {
   "display_name": "Python 3 (ipykernel)",
   "language": "python",
   "name": "python3"
  },
  "language_info": {
   "codemirror_mode": {
    "name": "ipython",
    "version": 3
   },
   "file_extension": ".py",
   "mimetype": "text/x-python",
   "name": "python",
   "nbconvert_exporter": "python",
   "pygments_lexer": "ipython3",
   "version": "3.11.7"
  }
 },
 "nbformat": 4,
 "nbformat_minor": 5
}
